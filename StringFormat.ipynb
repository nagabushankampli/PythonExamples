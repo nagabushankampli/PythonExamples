{
 "cells": [
  {
   "cell_type": "code",
   "execution_count": 38,
   "metadata": {},
   "outputs": [
    {
     "name": "stdout",
     "output_type": "stream",
     "text": [
      "Hi , how are you John\n"
     ]
    }
   ],
   "source": [
    "print('Hi , how are you {}'.format('John'))"
   ]
  },
  {
   "cell_type": "code",
   "execution_count": 2,
   "metadata": {},
   "outputs": [
    {
     "name": "stdout",
     "output_type": "stream",
     "text": [
      "The quick brown fox\n"
     ]
    }
   ],
   "source": [
    "print('The {} {} {}'.format('quick','brown','fox'))"
   ]
  },
  {
   "cell_type": "code",
   "execution_count": 4,
   "metadata": {},
   "outputs": [
    {
     "name": "stdout",
     "output_type": "stream",
     "text": [
      "The quick brown fox quick\n"
     ]
    }
   ],
   "source": [
    "print('The {0} {1} {2} {0}'.format('quick','brown','fox'))"
   ]
  },
  {
   "cell_type": "code",
   "execution_count": 6,
   "metadata": {},
   "outputs": [
    {
     "name": "stdout",
     "output_type": "stream",
     "text": [
      "The quick quick brown fox\n"
     ]
    }
   ],
   "source": [
    "print('The {q} {q} {b} {f}'.format(q='quick',b='brown',f='fox'))"
   ]
  },
  {
   "cell_type": "code",
   "execution_count": 24,
   "metadata": {},
   "outputs": [
    {
     "name": "stdout",
     "output_type": "stream",
     "text": [
      "The quick quick quick Other\n"
     ]
    }
   ],
   "source": [
    "q='quick'\n",
    "b='brown'\n",
    "f='fox'\n",
    "print('The {temp} {temp} {temp} {other}'.format(temp=q,other='Other'))"
   ]
  },
  {
   "cell_type": "code",
   "execution_count": 25,
   "metadata": {},
   "outputs": [],
   "source": [
    "result = 100/777"
   ]
  },
  {
   "cell_type": "code",
   "execution_count": 26,
   "metadata": {},
   "outputs": [
    {
     "data": {
      "text/plain": [
       "0.1287001287001287"
      ]
     },
     "execution_count": 26,
     "metadata": {},
     "output_type": "execute_result"
    }
   ],
   "source": [
    "result"
   ]
  },
  {
   "cell_type": "code",
   "execution_count": 27,
   "metadata": {},
   "outputs": [
    {
     "name": "stdout",
     "output_type": "stream",
     "text": [
      "The result = 0.1287001287001287\n"
     ]
    }
   ],
   "source": [
    "print('The result = {}'.format(result))"
   ]
  },
  {
   "cell_type": "code",
   "execution_count": 37,
   "metadata": {},
   "outputs": [
    {
     "name": "stdout",
     "output_type": "stream",
     "text": [
      "The result =  0.13\n"
     ]
    }
   ],
   "source": [
    "print('The result = {:5.2f}'.format(result))"
   ]
  },
  {
   "cell_type": "code",
   "execution_count": 32,
   "metadata": {},
   "outputs": [
    {
     "name": "stdout",
     "output_type": "stream",
     "text": [
      "The result = 0.129\n"
     ]
    }
   ],
   "source": [
    "print('The result = {r:1.3f}'.format(r=result))"
   ]
  },
  {
   "cell_type": "code",
   "execution_count": 42,
   "metadata": {},
   "outputs": [
    {
     "name": "stdout",
     "output_type": "stream",
     "text": [
      "hi, my name is John Doe and my age is 17\n"
     ]
    }
   ],
   "source": [
    "name='John Doe'\n",
    "age = 17\n",
    "print(f'hi, my name is {name} and my age is {age}')"
   ]
  },
  {
   "cell_type": "code",
   "execution_count": 43,
   "metadata": {},
   "outputs": [
    {
     "name": "stdout",
     "output_type": "stream",
     "text": [
      "Nagabushan Kampli\n"
     ]
    }
   ],
   "source": [
    "name = 'Nagabushan Kampli'\n",
    "print(name)"
   ]
  },
  {
   "cell_type": "code",
   "execution_count": 54,
   "metadata": {},
   "outputs": [
    {
     "name": "stdout",
     "output_type": "stream",
     "text": [
      "g\n",
      "p\n",
      "gabushan Kampli\n",
      "Naga\n",
      "Kampli\n",
      "Ngbsa api\n"
     ]
    },
    {
     "data": {
      "text/plain": [
       "'ilpmaK nahsubagaN'"
      ]
     },
     "execution_count": 54,
     "metadata": {},
     "output_type": "execute_result"
    }
   ],
   "source": [
    "print(name[2])\n",
    "print(name[-3])\n",
    "print(name[2:])\n",
    "print(name[:4])\n",
    "print(name[11:17])\n",
    "print(name[0:17:2])\n",
    "name[2:15:4]\n",
    "name[::-1]"
   ]
  },
  {
   "cell_type": "code",
   "execution_count": null,
   "metadata": {},
   "outputs": [],
   "source": []
  }
 ],
 "metadata": {
  "kernelspec": {
   "display_name": "Python 3",
   "language": "python",
   "name": "python3"
  },
  "language_info": {
   "codemirror_mode": {
    "name": "ipython",
    "version": 3
   },
   "file_extension": ".py",
   "mimetype": "text/x-python",
   "name": "python",
   "nbconvert_exporter": "python",
   "pygments_lexer": "ipython3",
   "version": "3.8.5"
  }
 },
 "nbformat": 4,
 "nbformat_minor": 4
}
